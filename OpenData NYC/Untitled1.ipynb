{
 "cells": [
  {
   "cell_type": "code",
   "execution_count": 1,
   "metadata": {},
   "outputs": [
    {
     "name": "stdout",
     "output_type": "stream",
     "text": [
      "Collecting ipyleaflet\n",
      "  Downloading https://files.pythonhosted.org/packages/2f/7f/f60b723fcc8250fcd64a9b9b70b4049cfa06b6cd412a65511facbeedb889/ipyleaflet-0.9.2-py2.py3-none-any.whl (911kB)\n",
      "Collecting xarray<0.10.8,>=0.10 (from ipyleaflet)\n",
      "  Downloading https://files.pythonhosted.org/packages/03/8a/08a996f9552c65ad955977d7a13fc3c423a90ca457373c3cb7caafb67b97/xarray-0.10.7-py2.py3-none-any.whl (448kB)\n",
      "Collecting traittypes<3,>=0.2.1 (from ipyleaflet)\n",
      "  Downloading https://files.pythonhosted.org/packages/9c/d1/8d5bd662703cc1764d986f6908a608777305946fa634d34c470cd4a1e729/traittypes-0.2.1-py2.py3-none-any.whl\n",
      "Requirement already satisfied: branca<0.4,>=0.3.1 in c:\\anaconda3\\lib\\site-packages (from ipyleaflet) (0.3.1)\n",
      "Requirement already satisfied: ipywidgets<8,>=7.0.0 in c:\\anaconda3\\lib\\site-packages (from ipyleaflet) (7.4.2)\n",
      "Requirement already satisfied: pandas>=0.18.0 in c:\\anaconda3\\lib\\site-packages (from xarray<0.10.8,>=0.10->ipyleaflet) (0.23.4)\n",
      "Requirement already satisfied: numpy>=1.11 in c:\\anaconda3\\lib\\site-packages (from xarray<0.10.8,>=0.10->ipyleaflet) (1.15.4)\n",
      "Requirement already satisfied: traitlets>=4.2.2 in c:\\anaconda3\\lib\\site-packages (from traittypes<3,>=0.2.1->ipyleaflet) (4.3.2)\n",
      "Requirement already satisfied: six in c:\\anaconda3\\lib\\site-packages (from branca<0.4,>=0.3.1->ipyleaflet) (1.12.0)\n",
      "Requirement already satisfied: jinja2 in c:\\anaconda3\\lib\\site-packages (from branca<0.4,>=0.3.1->ipyleaflet) (2.10)\n",
      "Requirement already satisfied: ipykernel>=4.5.1 in c:\\anaconda3\\lib\\site-packages (from ipywidgets<8,>=7.0.0->ipyleaflet) (5.1.0)\n",
      "Requirement already satisfied: ipython>=4.0.0; python_version >= \"3.3\" in c:\\anaconda3\\lib\\site-packages (from ipywidgets<8,>=7.0.0->ipyleaflet) (7.2.0)\n",
      "Requirement already satisfied: nbformat>=4.2.0 in c:\\anaconda3\\lib\\site-packages (from ipywidgets<8,>=7.0.0->ipyleaflet) (4.4.0)\n",
      "Requirement already satisfied: widgetsnbextension~=3.4.0 in c:\\anaconda3\\lib\\site-packages (from ipywidgets<8,>=7.0.0->ipyleaflet) (3.4.2)\n",
      "Requirement already satisfied: python-dateutil>=2.5.0 in c:\\anaconda3\\lib\\site-packages (from pandas>=0.18.0->xarray<0.10.8,>=0.10->ipyleaflet) (2.7.5)\n",
      "Requirement already satisfied: pytz>=2011k in c:\\anaconda3\\lib\\site-packages (from pandas>=0.18.0->xarray<0.10.8,>=0.10->ipyleaflet) (2018.7)\n",
      "Requirement already satisfied: ipython-genutils in c:\\anaconda3\\lib\\site-packages (from traitlets>=4.2.2->traittypes<3,>=0.2.1->ipyleaflet) (0.2.0)\n",
      "Requirement already satisfied: decorator in c:\\anaconda3\\lib\\site-packages (from traitlets>=4.2.2->traittypes<3,>=0.2.1->ipyleaflet) (4.3.0)\n",
      "Requirement already satisfied: MarkupSafe>=0.23 in c:\\anaconda3\\lib\\site-packages (from jinja2->branca<0.4,>=0.3.1->ipyleaflet) (1.1.0)\n",
      "Requirement already satisfied: tornado>=4.2 in c:\\anaconda3\\lib\\site-packages (from ipykernel>=4.5.1->ipywidgets<8,>=7.0.0->ipyleaflet) (5.1.1)\n",
      "Requirement already satisfied: jupyter-client in c:\\anaconda3\\lib\\site-packages (from ipykernel>=4.5.1->ipywidgets<8,>=7.0.0->ipyleaflet) (5.2.4)\n",
      "Requirement already satisfied: pygments in c:\\anaconda3\\lib\\site-packages (from ipython>=4.0.0; python_version >= \"3.3\"->ipywidgets<8,>=7.0.0->ipyleaflet) (2.3.1)\n",
      "Requirement already satisfied: setuptools>=18.5 in c:\\anaconda3\\lib\\site-packages (from ipython>=4.0.0; python_version >= \"3.3\"->ipywidgets<8,>=7.0.0->ipyleaflet) (40.6.3)\n",
      "Requirement already satisfied: backcall in c:\\anaconda3\\lib\\site-packages (from ipython>=4.0.0; python_version >= \"3.3\"->ipywidgets<8,>=7.0.0->ipyleaflet) (0.1.0)\n",
      "Requirement already satisfied: jedi>=0.10 in c:\\anaconda3\\lib\\site-packages (from ipython>=4.0.0; python_version >= \"3.3\"->ipywidgets<8,>=7.0.0->ipyleaflet) (0.13.2)\n",
      "Requirement already satisfied: prompt-toolkit<2.1.0,>=2.0.0 in c:\\anaconda3\\lib\\site-packages (from ipython>=4.0.0; python_version >= \"3.3\"->ipywidgets<8,>=7.0.0->ipyleaflet) (2.0.7)\n",
      "Requirement already satisfied: pickleshare in c:\\anaconda3\\lib\\site-packages (from ipython>=4.0.0; python_version >= \"3.3\"->ipywidgets<8,>=7.0.0->ipyleaflet) (0.7.5)\n",
      "Requirement already satisfied: colorama; sys_platform == \"win32\" in c:\\anaconda3\\lib\\site-packages (from ipython>=4.0.0; python_version >= \"3.3\"->ipywidgets<8,>=7.0.0->ipyleaflet) (0.4.1)\n",
      "Requirement already satisfied: jupyter-core in c:\\anaconda3\\lib\\site-packages (from nbformat>=4.2.0->ipywidgets<8,>=7.0.0->ipyleaflet) (4.4.0)\n",
      "Requirement already satisfied: jsonschema!=2.5.0,>=2.4 in c:\\anaconda3\\lib\\site-packages (from nbformat>=4.2.0->ipywidgets<8,>=7.0.0->ipyleaflet) (2.6.0)\n",
      "Requirement already satisfied: notebook>=4.4.1 in c:\\anaconda3\\lib\\site-packages (from widgetsnbextension~=3.4.0->ipywidgets<8,>=7.0.0->ipyleaflet) (5.7.4)\n",
      "Requirement already satisfied: pyzmq>=13 in c:\\anaconda3\\lib\\site-packages (from jupyter-client->ipykernel>=4.5.1->ipywidgets<8,>=7.0.0->ipyleaflet) (17.1.2)\n",
      "Requirement already satisfied: parso>=0.3.0 in c:\\anaconda3\\lib\\site-packages (from jedi>=0.10->ipython>=4.0.0; python_version >= \"3.3\"->ipywidgets<8,>=7.0.0->ipyleaflet) (0.3.1)\n",
      "Requirement already satisfied: wcwidth in c:\\anaconda3\\lib\\site-packages (from prompt-toolkit<2.1.0,>=2.0.0->ipython>=4.0.0; python_version >= \"3.3\"->ipywidgets<8,>=7.0.0->ipyleaflet) (0.1.7)\n",
      "Requirement already satisfied: nbconvert in c:\\anaconda3\\lib\\site-packages (from notebook>=4.4.1->widgetsnbextension~=3.4.0->ipywidgets<8,>=7.0.0->ipyleaflet) (5.4.0)\n",
      "Requirement already satisfied: terminado>=0.8.1 in c:\\anaconda3\\lib\\site-packages (from notebook>=4.4.1->widgetsnbextension~=3.4.0->ipywidgets<8,>=7.0.0->ipyleaflet) (0.8.1)\n",
      "Requirement already satisfied: Send2Trash in c:\\anaconda3\\lib\\site-packages (from notebook>=4.4.1->widgetsnbextension~=3.4.0->ipywidgets<8,>=7.0.0->ipyleaflet) (1.5.0)\n",
      "Requirement already satisfied: prometheus-client in c:\\anaconda3\\lib\\site-packages (from notebook>=4.4.1->widgetsnbextension~=3.4.0->ipywidgets<8,>=7.0.0->ipyleaflet) (0.5.0)\n",
      "Requirement already satisfied: mistune>=0.8.1 in c:\\anaconda3\\lib\\site-packages (from nbconvert->notebook>=4.4.1->widgetsnbextension~=3.4.0->ipywidgets<8,>=7.0.0->ipyleaflet) (0.8.4)\n",
      "Requirement already satisfied: entrypoints>=0.2.2 in c:\\anaconda3\\lib\\site-packages (from nbconvert->notebook>=4.4.1->widgetsnbextension~=3.4.0->ipywidgets<8,>=7.0.0->ipyleaflet) (0.2.3)\n",
      "Requirement already satisfied: bleach in c:\\anaconda3\\lib\\site-packages (from nbconvert->notebook>=4.4.1->widgetsnbextension~=3.4.0->ipywidgets<8,>=7.0.0->ipyleaflet) (3.0.2)\n",
      "Requirement already satisfied: pandocfilters>=1.4.1 in c:\\anaconda3\\lib\\site-packages (from nbconvert->notebook>=4.4.1->widgetsnbextension~=3.4.0->ipywidgets<8,>=7.0.0->ipyleaflet) (1.4.2)\n",
      "Requirement already satisfied: testpath in c:\\anaconda3\\lib\\site-packages (from nbconvert->notebook>=4.4.1->widgetsnbextension~=3.4.0->ipywidgets<8,>=7.0.0->ipyleaflet) (0.4.2)\n",
      "Requirement already satisfied: defusedxml in c:\\anaconda3\\lib\\site-packages (from nbconvert->notebook>=4.4.1->widgetsnbextension~=3.4.0->ipywidgets<8,>=7.0.0->ipyleaflet) (0.5.0)\n",
      "Requirement already satisfied: webencodings in c:\\anaconda3\\lib\\site-packages (from bleach->nbconvert->notebook>=4.4.1->widgetsnbextension~=3.4.0->ipywidgets<8,>=7.0.0->ipyleaflet) (0.5.1)\n",
      "Installing collected packages: xarray, traittypes, ipyleaflet\n",
      "Successfully installed ipyleaflet-0.9.2 traittypes-0.2.1 xarray-0.10.7\n"
     ]
    }
   ],
   "source": [
    "!pip install ipyleaflet"
   ]
  },
  {
   "cell_type": "code",
   "execution_count": null,
   "metadata": {},
   "outputs": [],
   "source": []
  }
 ],
 "metadata": {
  "kernelspec": {
   "display_name": "Python 3",
   "language": "python",
   "name": "python3"
  },
  "language_info": {
   "codemirror_mode": {
    "name": "ipython",
    "version": 3
   },
   "file_extension": ".py",
   "mimetype": "text/x-python",
   "name": "python",
   "nbconvert_exporter": "python",
   "pygments_lexer": "ipython3",
   "version": "3.7.1"
  }
 },
 "nbformat": 4,
 "nbformat_minor": 2
}
