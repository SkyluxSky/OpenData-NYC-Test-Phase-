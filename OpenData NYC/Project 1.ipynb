{
 "cells": [
  {
   "cell_type": "code",
   "execution_count": 3,
   "metadata": {},
   "outputs": [
    {
     "name": "stdout",
     "output_type": "stream",
     "text": [
      "pd\n"
     ]
    }
   ],
   "source": [
    "import pandas as pd\n",
    "\n",
    "#Example of a Print Command\n",
    "print(\"pd\")"
   ]
  },
  {
   "cell_type": "code",
   "execution_count": 1,
   "metadata": {},
   "outputs": [
    {
     "name": "stdout",
     "output_type": "stream",
     "text": [
      "226800\n",
      "22680000\n",
      "300000000\n",
      "37.77777777777778\n",
      "32.0\n",
      "A 1kg bomb supplies 300000000 Joules.\n",
      "The GE train supplies 226800 Newtons of force.\n",
      "The GE train does 22680000 Joules of work over 100 meters.\n"
     ]
    }
   ],
   "source": [
    "#Physic's Program Converts Fahrenheit to Celsius\n",
    "train_mass = 22680\n",
    "train_acceleration = 10\n",
    "train_distance = 100\n",
    "\n",
    "bomb_mass = 1\n",
    "c = 3*10**8\n",
    "\n",
    "#conversion tool for fahrenheit to celsius and vise versa\n",
    "def f_to_c(f_temp, c_temp):\n",
    "  c_temp = (f_temp - 32) * 5/9  \n",
    "\n",
    "  return c_temp\n",
    "\n",
    "def c_to_f(c_temp, f_temp):\n",
    "  f_temp = c_temp * (9/5) + 32\n",
    "\n",
    "  return f_temp\n",
    "\n",
    "def get_force(train_mass, train_acceleration):\n",
    "  train_force = train_mass * train_acceleration\n",
    "  \n",
    "  return train_force\n",
    "\n",
    "def get_work(train_mass, train_acceleration, train_distance):\n",
    "  train_work = train_mass * train_acceleration * train_distance\n",
    "  \n",
    "  return train_work\n",
    "\n",
    "def get_energy(bomb_mass, c):\n",
    "  bomb_energy = bomb_mass * c\n",
    "  \n",
    "  return bomb_energy\n",
    "\n",
    "#defines the values in a function that you created. the function= the equations not the numbers used in the equation.\n",
    "f100_in_celsius = f_to_c(100, 'c_temp')\n",
    "c0_in_fahrenheit = c_to_f(0, 'f_temp')\n",
    "train_force = get_force(22680, 10)\n",
    "train_work = get_work(22680, 10, 100)\n",
    "#I defined c as constant which is 3*10**8\n",
    "bomb_energy = get_energy(1, c)\n",
    "\n",
    "#print fodder\n",
    "print(train_force)\n",
    "print(train_work)\n",
    "print(bomb_energy)\n",
    "print(f100_in_celsius)\n",
    "print(c0_in_fahrenheit)\n",
    "\n",
    "#print phrases\n",
    "print(\"A 1kg bomb supplies\" + ' ' + str(bomb_energy) + ' ' + \"Joules.\")\n",
    "\n",
    "print(\"The GE train supplies\" + ' ' + str(train_force) + ' ' + \"Newtons of force.\")\n",
    "\n",
    "print(\"The GE train does\" + ' ' + str(train_work) + ' ' + \"Joules of work over\" + ' ' + str(train_distance) + ' ' + \"meters.\" )"
   ]
  },
  {
   "cell_type": "code",
   "execution_count": 2,
   "metadata": {},
   "outputs": [
    {
     "name": "stdout",
     "output_type": "stream",
     "text": [
      "How Many Rows:  3\n",
      "How many columns:  4\n",
      "[[0, 0, 0, 0], [0, 1, 2, 3], [0, 2, 4, 6]] \n",
      "\n",
      "hello\n",
      "hello\n",
      "hello\n",
      "hello\n",
      "hello\n",
      "hello\n",
      "hello\n",
      "gell\n",
      "glegl\n",
      "elg\n",
      "gl\n",
      "egl\n",
      "eglg\n",
      "elg\n",
      "egl\n",
      "eglg\n",
      "egle\n",
      "gle\n",
      "glgeg\n",
      "leg\n",
      "lg\n",
      "\n",
      "HELLO\n",
      "HELLO\n",
      "HELLO\n",
      "HELLO\n",
      "HELLO\n",
      "HELLO\n",
      "HELLO\n",
      "GELL\n",
      "GLEGL\n",
      "ELG\n",
      "GL\n",
      "EGL\n",
      "EGLG\n",
      "ELG\n",
      "EGL\n",
      "EGLG\n",
      "EGLE\n",
      "GLE\n",
      "GLGEG\n",
      "LEG\n",
      "LG\n",
      "Enter the binaries: 1011 0110 1001\n"
     ]
    },
    {
     "ename": "ValueError",
     "evalue": "invalid literal for int() with base 2: '1011 0110 1001'",
     "output_type": "error",
     "traceback": [
      "\u001b[1;31m---------------------------------------------------------------------------\u001b[0m",
      "\u001b[1;31mValueError\u001b[0m                                Traceback (most recent call last)",
      "\u001b[1;32m<ipython-input-2-55085c9cd9a8>\u001b[0m in \u001b[0;36m<module>\u001b[1;34m\u001b[0m\n\u001b[0;32m     34\u001b[0m         \u001b[1;32mif\u001b[0m \u001b[0mint\u001b[0m\u001b[1;33m(\u001b[0m\u001b[0mstr\u001b[0m\u001b[1;33m(\u001b[0m\u001b[0mt\u001b[0m\u001b[1;33m)\u001b[0m\u001b[1;33m,\u001b[0m\u001b[1;36m2\u001b[0m\u001b[1;33m)\u001b[0m \u001b[1;33m%\u001b[0m \u001b[1;36m5\u001b[0m \u001b[1;33m==\u001b[0m \u001b[1;36m0\u001b[0m\u001b[1;33m:\u001b[0m\u001b[1;33m\u001b[0m\u001b[1;33m\u001b[0m\u001b[0m\n\u001b[0;32m     35\u001b[0m             \u001b[0mprint\u001b[0m\u001b[1;33m(\u001b[0m\u001b[1;34m\"Output: \"\u001b[0m\u001b[1;33m,\u001b[0m\u001b[0mt\u001b[0m\u001b[1;33m)\u001b[0m\u001b[1;33m\u001b[0m\u001b[1;33m\u001b[0m\u001b[0m\n\u001b[1;32m---> 36\u001b[1;33m \u001b[0mdivividable_binary\u001b[0m\u001b[1;33m(\u001b[0m\u001b[1;33m)\u001b[0m\u001b[1;33m\u001b[0m\u001b[1;33m\u001b[0m\u001b[0m\n\u001b[0m",
      "\u001b[1;32m<ipython-input-2-55085c9cd9a8>\u001b[0m in \u001b[0;36mdivividable_binary\u001b[1;34m()\u001b[0m\n\u001b[0;32m     32\u001b[0m     \u001b[0mi\u001b[0m \u001b[1;33m=\u001b[0m \u001b[0ms\u001b[0m\u001b[1;33m.\u001b[0m\u001b[0msplit\u001b[0m\u001b[1;33m(\u001b[0m\u001b[1;34m\",\"\u001b[0m\u001b[1;33m)\u001b[0m\u001b[1;33m\u001b[0m\u001b[1;33m\u001b[0m\u001b[0m\n\u001b[0;32m     33\u001b[0m     \u001b[1;32mfor\u001b[0m \u001b[0mt\u001b[0m \u001b[1;32min\u001b[0m \u001b[0mi\u001b[0m\u001b[1;33m:\u001b[0m\u001b[1;33m\u001b[0m\u001b[1;33m\u001b[0m\u001b[0m\n\u001b[1;32m---> 34\u001b[1;33m         \u001b[1;32mif\u001b[0m \u001b[0mint\u001b[0m\u001b[1;33m(\u001b[0m\u001b[0mstr\u001b[0m\u001b[1;33m(\u001b[0m\u001b[0mt\u001b[0m\u001b[1;33m)\u001b[0m\u001b[1;33m,\u001b[0m\u001b[1;36m2\u001b[0m\u001b[1;33m)\u001b[0m \u001b[1;33m%\u001b[0m \u001b[1;36m5\u001b[0m \u001b[1;33m==\u001b[0m \u001b[1;36m0\u001b[0m\u001b[1;33m:\u001b[0m\u001b[1;33m\u001b[0m\u001b[1;33m\u001b[0m\u001b[0m\n\u001b[0m\u001b[0;32m     35\u001b[0m             \u001b[0mprint\u001b[0m\u001b[1;33m(\u001b[0m\u001b[1;34m\"Output: \"\u001b[0m\u001b[1;33m,\u001b[0m\u001b[0mt\u001b[0m\u001b[1;33m)\u001b[0m\u001b[1;33m\u001b[0m\u001b[1;33m\u001b[0m\u001b[0m\n\u001b[0;32m     36\u001b[0m \u001b[0mdivividable_binary\u001b[0m\u001b[1;33m(\u001b[0m\u001b[1;33m)\u001b[0m\u001b[1;33m\u001b[0m\u001b[1;33m\u001b[0m\u001b[0m\n",
      "\u001b[1;31mValueError\u001b[0m: invalid literal for int() with base 2: '1011 0110 1001'"
     ]
    }
   ],
   "source": [
    "#Array, Boolean Example\n",
    "# takes 2 digits (m and n, row and col respectively) as inputs and generates 2d array.\n",
    "# The element value in the i-th row and j-th column of the array should be i*j\n",
    "\n",
    "row_num = int(input('How Many Rows:  '))\n",
    "col_num = int(input('How many columns:  '))\n",
    "list = [[0 for col in range(col_num)] for row in range(row_num)]\n",
    "\n",
    "for row in range(row_num):\n",
    "    for col in range(col_num):\n",
    "        list[row][col] = row*col\n",
    "print(list, '\\n')\n",
    "\n",
    "# Write a Python program that accepts a sequence of lower case lines (blank line to terminate)\n",
    "# and prints the lines as output (all characters in upper case)\n",
    "\n",
    "lines = []\n",
    "while True:\n",
    "    l = input()\n",
    "    if l:\n",
    "        lines.append(l.upper())\n",
    "    else:\n",
    "        break;\n",
    "for l in lines:\n",
    "    print(l)\n",
    "\n",
    "# Write a program which accepts a sequence of comma separated 4 digit binary numbers as its input\n",
    "# and print the numbers that are divisible by 5 in a comma separated sequence.\n",
    "\n",
    "def divividable_binary():\n",
    "    s = input(\"Enter the binaries: \")\n",
    "    i = s.split(\",\")\n",
    "    for t in i:\n",
    "        if int(str(t),2) % 5 == 0:\n",
    "            print(\"Output: \",t)\n",
    "divividable_binary()"
   ]
  },
  {
   "cell_type": "code",
   "execution_count": null,
   "metadata": {},
   "outputs": [],
   "source": []
  }
 ],
 "metadata": {
  "kernelspec": {
   "display_name": "Python 3",
   "language": "python",
   "name": "python3"
  },
  "language_info": {
   "codemirror_mode": {
    "name": "ipython",
    "version": 3
   },
   "file_extension": ".py",
   "mimetype": "text/x-python",
   "name": "python",
   "nbconvert_exporter": "python",
   "pygments_lexer": "ipython3",
   "version": "3.7.1"
  }
 },
 "nbformat": 4,
 "nbformat_minor": 2
}
